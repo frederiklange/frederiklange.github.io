{
  "cells": [
    {
      "cell_type": "raw",
      "metadata": {},
      "source": [
        "---\n",
        "title: \"Elite Polarization in Parliamentary Speeches and Legislative Voting\"\n",
        "author: \"Frederik Lange\"\n",
        "date: \"2024-05-20\"\n",
        "categories: [code, machine learning, analysis, political science]\n",
        "image: \"polarization_thumbnail.png\"\n",
        "---"
      ],
      "id": "87b90494"
    },
    {
      "cell_type": "markdown",
      "metadata": {},
      "source": [
        "In 2021 I wrote my master's thesis in Political Science. In the thesis, I explored how elite polarization in parliamentary speeches has evolved over the pas decades by conducting a descriptive case study of parliamentary speeches in the Danish Parliament (Folketinget) from 1990 to 2020. To measure elite polarization, I relied on a novel approach that utilized the performance indicator of a supervised machine learning model to measure differences in political speech. In the sections below, I have summarized some of the findings of my thesis and my key learnings. Feel free to explore the summary or take a look at the complete [thesis](https://github.com/frederiklange/thesis_political_science/blob/main/niels_frederik_lange_speciale_september_2021.pdf) (the thesis is written in Danish).\n",
        "\n",
        "## git commit røvhuller\n"
      ],
      "id": "7ed686a2"
    },
    {
      "cell_type": "code",
      "metadata": {},
      "source": [
        "#| label: fig-polar\n",
        "#| fig-cap: A line plot on a polar axis\n",
        "\n",
        "import numpy as np\n",
        "import matplotlib.pyplot as plt\n",
        "\n",
        "r = np.arange(0, 2, 0.01)\n",
        "theta = 2 * np.pi * r\n",
        "fig, ax = plt.subplots(\n",
        "  subplot_kw = {'projection': 'polar'} \n",
        ")\n",
        "ax.plot(theta, r)\n",
        "ax.set_rticks([0.5, 1, 1.5, 2])\n",
        "ax.grid(True)\n",
        "plt.show()"
      ],
      "id": "fig-polar",
      "execution_count": null,
      "outputs": []
    },
    {
      "cell_type": "markdown",
      "metadata": {},
      "source": [
        "## Header\n",
        "\n",
        "## Header\n",
        "\n",
        "## Key Learnings and Reflections\n"
      ],
      "id": "419e2b60"
    }
  ],
  "metadata": {
    "kernelspec": {
      "display_name": "Python 3",
      "language": "python",
      "name": "python3"
    }
  },
  "nbformat": 4,
  "nbformat_minor": 5
}